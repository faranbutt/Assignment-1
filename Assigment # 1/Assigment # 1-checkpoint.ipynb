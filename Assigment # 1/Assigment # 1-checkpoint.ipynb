{
 "cells": [
  {
   "cell_type": "markdown",
   "metadata": {},
   "source": [
    "# Write a Python program to print the following string in a specific format (see the output)"
   ]
  },
  {
   "cell_type": "code",
   "execution_count": 1,
   "metadata": {},
   "outputs": [
    {
     "name": "stdout",
     "output_type": "stream",
     "text": [
      "Twinkle, twinkle, little star,\n",
      "         How i wonder what you arel\n",
      "                 Up above the world so high,\n",
      "                 Like a diamond in the sky.\n",
      "Twinkle, twinkle, little star,\n",
      "         How i wonder what you are\n"
     ]
    }
   ],
   "source": [
    "print(\"Twinkle, twinkle, little star,\");\n",
    "print(\"         How i wonder what you arel\");\n",
    "print(\"                 Up above the world so high,\");\n",
    "print(\"                 Like a diamond in the sky.\");\n",
    "print(\"Twinkle, twinkle, little star,\");\n",
    "print(\"         How i wonder what you are\");"
   ]
  },
  {
   "cell_type": "markdown",
   "metadata": {},
   "source": [
    "# Write a python program to get the python version you are using."
   ]
  },
  {
   "cell_type": "code",
   "execution_count": 2,
   "metadata": {},
   "outputs": [
    {
     "name": "stdout",
     "output_type": "stream",
     "text": [
      "The version of python on my PC is 3.7.3\n"
     ]
    }
   ],
   "source": [
    "import platform;\n",
    "print(\"The version of python on my PC is\",platform.python_version());"
   ]
  },
  {
   "cell_type": "markdown",
   "metadata": {},
   "source": [
    "# Write a python program to display current Date and Time.\n"
   ]
  },
  {
   "cell_type": "code",
   "execution_count": 3,
   "metadata": {},
   "outputs": [
    {
     "name": "stdout",
     "output_type": "stream",
     "text": [
      "The date today is 29/12/21\n",
      "The time today is 14:18:10\n"
     ]
    }
   ],
   "source": [
    "from datetime import date;\n",
    "import time;\n",
    "print(\"The date today is\",date.today().strftime(\"%d/%m/%y\"));\n",
    "print(\"The time today is\",time.strftime(\"%H:%M:%S\"));"
   ]
  },
  {
   "cell_type": "markdown",
   "metadata": {},
   "source": [
    "# Write a python program which accepts the radius of circle from the user and compute the area"
   ]
  },
  {
   "cell_type": "code",
   "execution_count": 4,
   "metadata": {},
   "outputs": [
    {
     "name": "stdout",
     "output_type": "stream",
     "text": [
      "Please enter radius of circle 3\n",
      "Area of a circle = 28.26 \n"
     ]
    }
   ],
   "source": [
    "rad=float(input(\"Please enter radius of circle \"));\n",
    "A=3.14*rad*rad;\n",
    "print(\"Area of a circle = %.2f \" %A)"
   ]
  },
  {
   "cell_type": "markdown",
   "metadata": {},
   "source": [
    "# Write the python program which accepts the user first and last name and print them in reverse order with a space between them"
   ]
  },
  {
   "cell_type": "code",
   "execution_count": 16,
   "metadata": {},
   "outputs": [
    {
     "name": "stdout",
     "output_type": "stream",
     "text": [
      "Please enter your first name faran\n",
      "Please enter your last nameButt\n",
      "The name is  Butt faran\n"
     ]
    }
   ],
   "source": [
    "fname=input(\"Please enter your first name \");\n",
    "lname=input(\"Please enter your last name\");\n",
    "rname=lname+' '+(fname);\n",
    "print(\"The name is \",rname);"
   ]
  },
  {
   "cell_type": "markdown",
   "metadata": {},
   "source": [
    "# Write a python program which take two inputs from user and prints them addition"
   ]
  },
  {
   "cell_type": "code",
   "execution_count": 15,
   "metadata": {},
   "outputs": [
    {
     "name": "stdout",
     "output_type": "stream",
     "text": [
      "Enter first value 2\n",
      "Enter second value3\n",
      "The sum of is  5\n"
     ]
    }
   ],
   "source": [
    "a=int(input(\"Enter first value \"));\n",
    "b=int(input(\"Enter second value\"));\n",
    "c=a+b;\n",
    "print(\"The sum of is \",c);"
   ]
  }
 ],
 "metadata": {
  "kernelspec": {
   "display_name": "Python 3",
   "language": "python",
   "name": "python3"
  },
  "language_info": {
   "codemirror_mode": {
    "name": "ipython",
    "version": 3
   },
   "file_extension": ".py",
   "mimetype": "text/x-python",
   "name": "python",
   "nbconvert_exporter": "python",
   "pygments_lexer": "ipython3",
   "version": "3.7.3"
  }
 },
 "nbformat": 4,
 "nbformat_minor": 2
}
