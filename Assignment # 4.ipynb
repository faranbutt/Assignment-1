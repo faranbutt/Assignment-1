{
 "cells": [
  {
   "cell_type": "code",
   "execution_count": 1,
   "metadata": {},
   "outputs": [],
   "source": [
    "import pandas as pd\n",
    "import numpy as np\n",
    "data=pd.read_csv(\"netflix_data.csv\")"
   ]
  },
  {
   "cell_type": "code",
   "execution_count": 2,
   "metadata": {},
   "outputs": [
    {
     "data": {
      "text/html": [
       "<div>\n",
       "<style scoped>\n",
       "    .dataframe tbody tr th:only-of-type {\n",
       "        vertical-align: middle;\n",
       "    }\n",
       "\n",
       "    .dataframe tbody tr th {\n",
       "        vertical-align: top;\n",
       "    }\n",
       "\n",
       "    .dataframe thead th {\n",
       "        text-align: right;\n",
       "    }\n",
       "</style>\n",
       "<table border=\"1\" class=\"dataframe\">\n",
       "  <thead>\n",
       "    <tr style=\"text-align: right;\">\n",
       "      <th></th>\n",
       "      <th>show_id</th>\n",
       "      <th>type</th>\n",
       "      <th>title</th>\n",
       "      <th>director</th>\n",
       "      <th>cast</th>\n",
       "      <th>country</th>\n",
       "      <th>date_added</th>\n",
       "      <th>release_year</th>\n",
       "      <th>duration</th>\n",
       "      <th>description</th>\n",
       "      <th>genre</th>\n",
       "    </tr>\n",
       "  </thead>\n",
       "  <tbody>\n",
       "    <tr>\n",
       "      <th>7784</th>\n",
       "      <td>s7785</td>\n",
       "      <td>Movie</td>\n",
       "      <td>Zulu Man in Japan</td>\n",
       "      <td>NaN</td>\n",
       "      <td>Nasty C</td>\n",
       "      <td>NaN</td>\n",
       "      <td>September 25, 2020</td>\n",
       "      <td>2019</td>\n",
       "      <td>44</td>\n",
       "      <td>In this documentary, South African rapper Nast...</td>\n",
       "      <td>Documentaries</td>\n",
       "    </tr>\n",
       "    <tr>\n",
       "      <th>7785</th>\n",
       "      <td>s7786</td>\n",
       "      <td>TV Show</td>\n",
       "      <td>Zumbo's Just Desserts</td>\n",
       "      <td>NaN</td>\n",
       "      <td>Adriano Zumbo, Rachel Khoo</td>\n",
       "      <td>Australia</td>\n",
       "      <td>October 31, 2020</td>\n",
       "      <td>2019</td>\n",
       "      <td>1</td>\n",
       "      <td>Dessert wizard Adriano Zumbo looks for the nex...</td>\n",
       "      <td>International TV</td>\n",
       "    </tr>\n",
       "    <tr>\n",
       "      <th>7786</th>\n",
       "      <td>s7787</td>\n",
       "      <td>Movie</td>\n",
       "      <td>ZZ TOP: THAT LITTLE OL' BAND FROM TEXAS</td>\n",
       "      <td>Sam Dunn</td>\n",
       "      <td>NaN</td>\n",
       "      <td>United Kingdom</td>\n",
       "      <td>March 1, 2020</td>\n",
       "      <td>2019</td>\n",
       "      <td>90</td>\n",
       "      <td>This documentary delves into the mystique behi...</td>\n",
       "      <td>Documentaries</td>\n",
       "    </tr>\n",
       "  </tbody>\n",
       "</table>\n",
       "</div>"
      ],
      "text/plain": [
       "     show_id     type                                    title  director  \\\n",
       "7784   s7785    Movie                        Zulu Man in Japan       NaN   \n",
       "7785   s7786  TV Show                    Zumbo's Just Desserts       NaN   \n",
       "7786   s7787    Movie  ZZ TOP: THAT LITTLE OL' BAND FROM TEXAS  Sam Dunn   \n",
       "\n",
       "                            cast         country          date_added  \\\n",
       "7784                     Nasty C             NaN  September 25, 2020   \n",
       "7785  Adriano Zumbo, Rachel Khoo       Australia    October 31, 2020   \n",
       "7786                         NaN  United Kingdom       March 1, 2020   \n",
       "\n",
       "      release_year  duration  \\\n",
       "7784          2019        44   \n",
       "7785          2019         1   \n",
       "7786          2019        90   \n",
       "\n",
       "                                            description             genre  \n",
       "7784  In this documentary, South African rapper Nast...     Documentaries  \n",
       "7785  Dessert wizard Adriano Zumbo looks for the nex...  International TV  \n",
       "7786  This documentary delves into the mystique behi...     Documentaries  "
      ]
     },
     "execution_count": 2,
     "metadata": {},
     "output_type": "execute_result"
    }
   ],
   "source": [
    "data.tail(3)"
   ]
  },
  {
   "cell_type": "markdown",
   "metadata": {},
   "source": [
    "# Task 1"
   ]
  },
  {
   "cell_type": "code",
   "execution_count": 3,
   "metadata": {},
   "outputs": [],
   "source": [
    "data[\"country\"].replace(np.nan, \"United States\",inplace=True)"
   ]
  },
  {
   "cell_type": "code",
   "execution_count": 4,
   "metadata": {},
   "outputs": [
    {
     "data": {
      "text/html": [
       "<div>\n",
       "<style scoped>\n",
       "    .dataframe tbody tr th:only-of-type {\n",
       "        vertical-align: middle;\n",
       "    }\n",
       "\n",
       "    .dataframe tbody tr th {\n",
       "        vertical-align: top;\n",
       "    }\n",
       "\n",
       "    .dataframe thead th {\n",
       "        text-align: right;\n",
       "    }\n",
       "</style>\n",
       "<table border=\"1\" class=\"dataframe\">\n",
       "  <thead>\n",
       "    <tr style=\"text-align: right;\">\n",
       "      <th></th>\n",
       "      <th>show_id</th>\n",
       "      <th>type</th>\n",
       "      <th>title</th>\n",
       "      <th>director</th>\n",
       "      <th>cast</th>\n",
       "      <th>country</th>\n",
       "      <th>date_added</th>\n",
       "      <th>release_year</th>\n",
       "      <th>duration</th>\n",
       "      <th>description</th>\n",
       "      <th>genre</th>\n",
       "    </tr>\n",
       "  </thead>\n",
       "  <tbody>\n",
       "    <tr>\n",
       "      <th>7784</th>\n",
       "      <td>s7785</td>\n",
       "      <td>Movie</td>\n",
       "      <td>Zulu Man in Japan</td>\n",
       "      <td>NaN</td>\n",
       "      <td>Nasty C</td>\n",
       "      <td>United States</td>\n",
       "      <td>September 25, 2020</td>\n",
       "      <td>2019</td>\n",
       "      <td>44</td>\n",
       "      <td>In this documentary, South African rapper Nast...</td>\n",
       "      <td>Documentaries</td>\n",
       "    </tr>\n",
       "    <tr>\n",
       "      <th>7785</th>\n",
       "      <td>s7786</td>\n",
       "      <td>TV Show</td>\n",
       "      <td>Zumbo's Just Desserts</td>\n",
       "      <td>NaN</td>\n",
       "      <td>Adriano Zumbo, Rachel Khoo</td>\n",
       "      <td>Australia</td>\n",
       "      <td>October 31, 2020</td>\n",
       "      <td>2019</td>\n",
       "      <td>1</td>\n",
       "      <td>Dessert wizard Adriano Zumbo looks for the nex...</td>\n",
       "      <td>International TV</td>\n",
       "    </tr>\n",
       "    <tr>\n",
       "      <th>7786</th>\n",
       "      <td>s7787</td>\n",
       "      <td>Movie</td>\n",
       "      <td>ZZ TOP: THAT LITTLE OL' BAND FROM TEXAS</td>\n",
       "      <td>Sam Dunn</td>\n",
       "      <td>NaN</td>\n",
       "      <td>United Kingdom</td>\n",
       "      <td>March 1, 2020</td>\n",
       "      <td>2019</td>\n",
       "      <td>90</td>\n",
       "      <td>This documentary delves into the mystique behi...</td>\n",
       "      <td>Documentaries</td>\n",
       "    </tr>\n",
       "  </tbody>\n",
       "</table>\n",
       "</div>"
      ],
      "text/plain": [
       "     show_id     type                                    title  director  \\\n",
       "7784   s7785    Movie                        Zulu Man in Japan       NaN   \n",
       "7785   s7786  TV Show                    Zumbo's Just Desserts       NaN   \n",
       "7786   s7787    Movie  ZZ TOP: THAT LITTLE OL' BAND FROM TEXAS  Sam Dunn   \n",
       "\n",
       "                            cast         country          date_added  \\\n",
       "7784                     Nasty C   United States  September 25, 2020   \n",
       "7785  Adriano Zumbo, Rachel Khoo       Australia    October 31, 2020   \n",
       "7786                         NaN  United Kingdom       March 1, 2020   \n",
       "\n",
       "      release_year  duration  \\\n",
       "7784          2019        44   \n",
       "7785          2019         1   \n",
       "7786          2019        90   \n",
       "\n",
       "                                            description             genre  \n",
       "7784  In this documentary, South African rapper Nast...     Documentaries  \n",
       "7785  Dessert wizard Adriano Zumbo looks for the nex...  International TV  \n",
       "7786  This documentary delves into the mystique behi...     Documentaries  "
      ]
     },
     "execution_count": 4,
     "metadata": {},
     "output_type": "execute_result"
    }
   ],
   "source": [
    "data.tail(3)"
   ]
  },
  {
   "cell_type": "markdown",
   "metadata": {},
   "source": [
    "# Task 2"
   ]
  },
  {
   "cell_type": "code",
   "execution_count": 44,
   "metadata": {},
   "outputs": [
    {
     "data": {
      "text/plain": [
       "country\n",
       "United States     2330\n",
       "India              883\n",
       "United Kingdom     341\n",
       "Canada             175\n",
       "France             137\n",
       "Spain              119\n",
       "Egypt               93\n",
       "Mexico              79\n",
       "Turkey              78\n",
       "Japan               75\n",
       "dtype: int64"
      ]
     },
     "execution_count": 44,
     "metadata": {},
     "output_type": "execute_result"
    }
   ],
   "source": [
    "a=data.groupby([\"type\",\"country\"]).size()\n",
    "a[\"Movie\"].nlargest(10)"
   ]
  },
  {
   "cell_type": "code",
   "execution_count": 45,
   "metadata": {},
   "outputs": [
    {
     "data": {
      "text/plain": [
       "country\n",
       "United States     1060\n",
       "United Kingdom     236\n",
       "Japan              162\n",
       "South Korea        152\n",
       "Canada              84\n",
       "India               73\n",
       "Taiwan              70\n",
       "France              59\n",
       "Australia           52\n",
       "Spain               49\n",
       "dtype: int64"
      ]
     },
     "execution_count": 45,
     "metadata": {},
     "output_type": "execute_result"
    }
   ],
   "source": [
    "a[\"TV Show\"].nlargest(10)"
   ]
  },
  {
   "cell_type": "code",
   "execution_count": null,
   "metadata": {},
   "outputs": [],
   "source": []
  },
  {
   "cell_type": "code",
   "execution_count": 14,
   "metadata": {},
   "outputs": [
    {
     "data": {
      "text/plain": [
       "release_year\n",
       "1925       1\n",
       "1942       2\n",
       "1943       3\n",
       "1944       3\n",
       "1945       3\n",
       "1946       2\n",
       "1947       1\n",
       "1954       2\n",
       "1955       3\n",
       "1956       2\n",
       "1958       3\n",
       "1959       1\n",
       "1960       4\n",
       "1962       3\n",
       "1963       2\n",
       "1964       1\n",
       "1965       2\n",
       "1966       1\n",
       "1967       5\n",
       "1968       5\n",
       "1969       2\n",
       "1970       2\n",
       "1971       5\n",
       "1972       4\n",
       "1973      10\n",
       "1974       7\n",
       "1975       6\n",
       "1976       9\n",
       "1977       7\n",
       "1978       6\n",
       "        ... \n",
       "1992      18\n",
       "1993      22\n",
       "1994      16\n",
       "1995      19\n",
       "1996      19\n",
       "1997      30\n",
       "1998      31\n",
       "1999      33\n",
       "2000      34\n",
       "2001      36\n",
       "2002      45\n",
       "2003      49\n",
       "2004      59\n",
       "2005      73\n",
       "2006      85\n",
       "2007      85\n",
       "2008     125\n",
       "2009     137\n",
       "2010     173\n",
       "2011     166\n",
       "2012     219\n",
       "2013     267\n",
       "2014     334\n",
       "2015     541\n",
       "2016     882\n",
       "2017    1012\n",
       "2018    1121\n",
       "2019     996\n",
       "2020     868\n",
       "2021      31\n",
       "Length: 73, dtype: int64"
      ]
     },
     "execution_count": 14,
     "metadata": {},
     "output_type": "execute_result"
    }
   ],
   "source": [
    "data.groupby(\"release_year\").size()"
   ]
  },
  {
   "cell_type": "markdown",
   "metadata": {},
   "source": [
    "# Task 3"
   ]
  },
  {
   "cell_type": "code",
   "execution_count": 46,
   "metadata": {},
   "outputs": [
    {
     "data": {
      "text/plain": [
       "release_year\n",
       "1942      2\n",
       "1943      3\n",
       "1944      3\n",
       "1945      3\n",
       "1946      1\n",
       "1947      1\n",
       "1954      2\n",
       "1955      3\n",
       "1956      2\n",
       "1958      3\n",
       "1959      1\n",
       "1960      4\n",
       "1962      3\n",
       "1963      1\n",
       "1964      1\n",
       "1965      2\n",
       "1966      1\n",
       "1967      4\n",
       "1968      4\n",
       "1969      2\n",
       "1970      2\n",
       "1971      5\n",
       "1972      3\n",
       "1973     10\n",
       "1974      6\n",
       "1975      6\n",
       "1976      9\n",
       "1977      6\n",
       "1978      6\n",
       "1979     10\n",
       "       ... \n",
       "1992     16\n",
       "1993     18\n",
       "1994     15\n",
       "1995     17\n",
       "1996     16\n",
       "1997     26\n",
       "1998     27\n",
       "1999     26\n",
       "2000     30\n",
       "2001     32\n",
       "2002     39\n",
       "2003     40\n",
       "2004     50\n",
       "2005     61\n",
       "2006     72\n",
       "2007     72\n",
       "2008    102\n",
       "2009    103\n",
       "2010    136\n",
       "2011    127\n",
       "2012    158\n",
       "2013    202\n",
       "2014    244\n",
       "2015    382\n",
       "2016    642\n",
       "2017    744\n",
       "2018    734\n",
       "2019    582\n",
       "2020    411\n",
       "2021     12\n",
       "Length: 72, dtype: int64"
      ]
     },
     "execution_count": 46,
     "metadata": {},
     "output_type": "execute_result"
    }
   ],
   "source": [
    "s=data.groupby([\"type\",\"release_year\"]).size()\n",
    "s[\"Movie\"]"
   ]
  },
  {
   "cell_type": "markdown",
   "metadata": {},
   "source": [
    "# Task 4"
   ]
  },
  {
   "cell_type": "code",
   "execution_count": 47,
   "metadata": {},
   "outputs": [
    {
     "data": {
      "text/plain": [
       "release_year\n",
       "1925      1\n",
       "1946      1\n",
       "1963      1\n",
       "1967      1\n",
       "1968      1\n",
       "1972      1\n",
       "1974      1\n",
       "1977      1\n",
       "1979      1\n",
       "1981      1\n",
       "1985      1\n",
       "1986      2\n",
       "1988      2\n",
       "1989      1\n",
       "1990      3\n",
       "1991      1\n",
       "1992      2\n",
       "1993      4\n",
       "1994      1\n",
       "1995      2\n",
       "1996      3\n",
       "1997      4\n",
       "1998      4\n",
       "1999      7\n",
       "2000      4\n",
       "2001      4\n",
       "2002      6\n",
       "2003      9\n",
       "2004      9\n",
       "2005     12\n",
       "2006     13\n",
       "2007     13\n",
       "2008     23\n",
       "2009     34\n",
       "2010     37\n",
       "2011     39\n",
       "2012     61\n",
       "2013     65\n",
       "2014     90\n",
       "2015    159\n",
       "2016    240\n",
       "2017    268\n",
       "2018    387\n",
       "2019    414\n",
       "2020    457\n",
       "2021     19\n",
       "dtype: int64"
      ]
     },
     "execution_count": 47,
     "metadata": {},
     "output_type": "execute_result"
    }
   ],
   "source": [
    "s[\"TV Show\"]"
   ]
  }
 ],
 "metadata": {
  "kernelspec": {
   "display_name": "Python 3",
   "language": "python",
   "name": "python3"
  },
  "language_info": {
   "codemirror_mode": {
    "name": "ipython",
    "version": 3
   },
   "file_extension": ".py",
   "mimetype": "text/x-python",
   "name": "python",
   "nbconvert_exporter": "python",
   "pygments_lexer": "ipython3",
   "version": "3.7.3"
  }
 },
 "nbformat": 4,
 "nbformat_minor": 2
}
